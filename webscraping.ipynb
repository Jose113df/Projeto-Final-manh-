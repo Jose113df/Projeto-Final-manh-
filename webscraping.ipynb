{
 "cells": [
  {
   "cell_type": "markdown",
   "metadata": {},
   "source": [
    "# Web Scraping\n",
    "\n",
    "- Tecnica web scraping\n",
    "- Utilização de funçoes basicas do pandas\n",
    "- Manipulação de Strings\n",
    "- Pesquisas usando Pandas\n",
    "- Criação e tranformação de DataFrames\n",
    "- Revisão de funçoes \n",
    "- Utilização de Função dentro do Notebook\n",
    "- Renomear colunas\n",
    "- Atualizar DataFrames (original)\n",
    "- Dicas para estudar e trabalhar com expressões regulares\n",
    "- Pacotes para Web"
   ]
  },
  {
   "cell_type": "markdown",
   "metadata": {},
   "source": [
    "### 1.1 LINK para Raspagem\n",
    "\n",
    "https://www.terra.com.br/esportes/futebol/brasileiro-serie-a/tabela/#google_vignette\n",
    "\n",
    "Leis locais (Brasil)\n",
    "- LGPD (Lei Geral de Proteção de Dados)\n",
    "- Ética e responsabilidade "
   ]
  },
  {
   "cell_type": "markdown",
   "metadata": {},
   "source": [
    "### 1.2 Ler um HTML\n"
   ]
  },
  {
   "cell_type": "code",
   "execution_count": 4,
   "metadata": {},
   "outputs": [],
   "source": [
    "# Definir uma variavel (é um espaço reservado na memoria do computador)\n",
    "\n",
    "url = \"https://www.terra.com.br/esportes/futebol/brasileiro-serie-a/tabela/#google_vignette\"\n"
   ]
  },
  {
   "cell_type": "markdown",
   "metadata": {},
   "source": [
    "### 1.3 Instalar e Importar o pandas o PANDAS"
   ]
  },
  {
   "cell_type": "code",
   "execution_count": null,
   "metadata": {},
   "outputs": [],
   "source": [
    "! pip install pandas"
   ]
  },
  {
   "cell_type": "code",
   "execution_count": 2,
   "metadata": {},
   "outputs": [],
   "source": [
    "import pandas as pd"
   ]
  },
  {
   "cell_type": "code",
   "execution_count": 5,
   "metadata": {},
   "outputs": [
    {
     "data": {
      "text/plain": [
       "str"
      ]
     },
     "execution_count": 5,
     "metadata": {},
     "output_type": "execute_result"
    }
   ],
   "source": [
    "# Tipagem Dinâmica\n",
    "# tipo é definido como tempo de execução\n",
    "type(url)\n"
   ]
  },
  {
   "cell_type": "markdown",
   "metadata": {},
   "source": [
    "### 1.4 Ler HTML com Pandas"
   ]
  },
  {
   "cell_type": "code",
   "execution_count": 11,
   "metadata": {},
   "outputs": [],
   "source": [
    "tabela_brasileirao = pd.read_html(url,encoding='utf-8')\n",
    "# Use o utf-8 ou ISO-8859-1"
   ]
  },
  {
   "cell_type": "markdown",
   "metadata": {},
   "source": [
    "### 1.5 Instalar a biblioteca LXML"
   ]
  },
  {
   "cell_type": "code",
   "execution_count": 10,
   "metadata": {},
   "outputs": [
    {
     "name": "stdout",
     "output_type": "stream",
     "text": [
      "Collecting lxml\n",
      "  Using cached lxml-5.2.2-cp312-cp312-win_amd64.whl.metadata (3.5 kB)\n",
      "Using cached lxml-5.2.2-cp312-cp312-win_amd64.whl (3.8 MB)\n",
      "Installing collected packages: lxml\n",
      "Successfully installed lxml-5.2.2\n"
     ]
    }
   ],
   "source": [
    "! pip install lxml"
   ]
  },
  {
   "cell_type": "markdown",
   "metadata": {},
   "source": [
    "### Bibliotecas para Web Scraping \n",
    "- htmlslib\n",
    "- beautifulsoup4\n",
    "- lxml"
   ]
  },
  {
   "cell_type": "code",
   "execution_count": 28,
   "metadata": {},
   "outputs": [],
   "source": [
    "url = \"https://ge.globo.com/esports/blogs/por-dentro-dos-esports/post/2024/04/03/vct-americas-2024-etapa-1-tabela-jogos-formato-e-mais.ghtml\""
   ]
  },
  {
   "cell_type": "code",
   "execution_count": 29,
   "metadata": {},
   "outputs": [],
   "source": [
    "tabela_vctamericas = pd.read_html(url,encoding='utf-8')"
   ]
  },
  {
   "cell_type": "code",
   "execution_count": 30,
   "metadata": {},
   "outputs": [
    {
     "data": {
      "text/plain": [
       "[    0           1             2            3                4              5  \\\n",
       " 0   #  Grupo Alfa  Séries (V-D)  Mapas (V-D)  Saldo de rounds    Grupo Ômega   \n",
       " 1  1º         KRÜ           5-1         11-4              +43       Leviatán   \n",
       " 2  2º      Cloud9           5-1         10-6              +20    100 Thieves   \n",
       " 3  3º          G2           3-3          7-6              +23           LOUD   \n",
       " 4  4º   Sentinels           3-3          7-6              +21  Evil Geniuses   \n",
       " 5  5º         NRG           3-3          7-6               +8          FURIA   \n",
       " 6  6º         NaN           NaN          NaN              NaN           MIBR   \n",
       " \n",
       "               6            7                8  \n",
       " 0  Séries (V-D)  Mapas (V-D)  Saldo de rounds  \n",
       " 1           4-1          9-4              +36  \n",
       " 2           3-2          7-4              +14  \n",
       " 3           2-3          5-6              -13  \n",
       " 4           2-3          5-8              -28  \n",
       " 5           0-5         2-10              -62  \n",
       " 6           0-5         0-10              -62  ]"
      ]
     },
     "execution_count": 30,
     "metadata": {},
     "output_type": "execute_result"
    }
   ],
   "source": [
    "tabela_vctamericas"
   ]
  },
  {
   "cell_type": "markdown",
   "metadata": {},
   "source": [
    "### 1.6 Conversão para DataFrame"
   ]
  },
  {
   "cell_type": "markdown",
   "metadata": {},
   "source": [
    "### tabela_vctamericas.head() NÃO FUNIONA \n"
   ]
  },
  {
   "cell_type": "code",
   "execution_count": 33,
   "metadata": {},
   "outputs": [
    {
     "ename": "AttributeError",
     "evalue": "'list' object has no attribute 'head'",
     "output_type": "error",
     "traceback": [
      "\u001b[1;31m---------------------------------------------------------------------------\u001b[0m",
      "\u001b[1;31mAttributeError\u001b[0m                            Traceback (most recent call last)",
      "Cell \u001b[1;32mIn[33], line 1\u001b[0m\n\u001b[1;32m----> 1\u001b[0m \u001b[43mtabela_vctamericas\u001b[49m\u001b[38;5;241;43m.\u001b[39;49m\u001b[43mhead\u001b[49m()\n",
      "\u001b[1;31mAttributeError\u001b[0m: 'list' object has no attribute 'head'"
     ]
    }
   ],
   "source": [
    "tabela_vctamericas.head()"
   ]
  },
  {
   "cell_type": "markdown",
   "metadata": {},
   "source": [
    "### Para funcionar converta para um DataFrame"
   ]
  },
  {
   "cell_type": "code",
   "execution_count": 34,
   "metadata": {},
   "outputs": [
    {
     "data": {
      "text/html": [
       "<div>\n",
       "<style scoped>\n",
       "    .dataframe tbody tr th:only-of-type {\n",
       "        vertical-align: middle;\n",
       "    }\n",
       "\n",
       "    .dataframe tbody tr th {\n",
       "        vertical-align: top;\n",
       "    }\n",
       "\n",
       "    .dataframe thead th {\n",
       "        text-align: right;\n",
       "    }\n",
       "</style>\n",
       "<table border=\"1\" class=\"dataframe\">\n",
       "  <thead>\n",
       "    <tr style=\"text-align: right;\">\n",
       "      <th></th>\n",
       "      <th>0</th>\n",
       "      <th>1</th>\n",
       "      <th>2</th>\n",
       "      <th>3</th>\n",
       "      <th>4</th>\n",
       "      <th>5</th>\n",
       "      <th>6</th>\n",
       "      <th>7</th>\n",
       "      <th>8</th>\n",
       "    </tr>\n",
       "  </thead>\n",
       "  <tbody>\n",
       "    <tr>\n",
       "      <th>0</th>\n",
       "      <td>#</td>\n",
       "      <td>Grupo Alfa</td>\n",
       "      <td>Séries (V-D)</td>\n",
       "      <td>Mapas (V-D)</td>\n",
       "      <td>Saldo de rounds</td>\n",
       "      <td>Grupo Ômega</td>\n",
       "      <td>Séries (V-D)</td>\n",
       "      <td>Mapas (V-D)</td>\n",
       "      <td>Saldo de rounds</td>\n",
       "    </tr>\n",
       "    <tr>\n",
       "      <th>1</th>\n",
       "      <td>1º</td>\n",
       "      <td>KRÜ</td>\n",
       "      <td>5-1</td>\n",
       "      <td>11-4</td>\n",
       "      <td>+43</td>\n",
       "      <td>Leviatán</td>\n",
       "      <td>4-1</td>\n",
       "      <td>9-4</td>\n",
       "      <td>+36</td>\n",
       "    </tr>\n",
       "    <tr>\n",
       "      <th>2</th>\n",
       "      <td>2º</td>\n",
       "      <td>Cloud9</td>\n",
       "      <td>5-1</td>\n",
       "      <td>10-6</td>\n",
       "      <td>+20</td>\n",
       "      <td>100 Thieves</td>\n",
       "      <td>3-2</td>\n",
       "      <td>7-4</td>\n",
       "      <td>+14</td>\n",
       "    </tr>\n",
       "    <tr>\n",
       "      <th>3</th>\n",
       "      <td>3º</td>\n",
       "      <td>G2</td>\n",
       "      <td>3-3</td>\n",
       "      <td>7-6</td>\n",
       "      <td>+23</td>\n",
       "      <td>LOUD</td>\n",
       "      <td>2-3</td>\n",
       "      <td>5-6</td>\n",
       "      <td>-13</td>\n",
       "    </tr>\n",
       "    <tr>\n",
       "      <th>4</th>\n",
       "      <td>4º</td>\n",
       "      <td>Sentinels</td>\n",
       "      <td>3-3</td>\n",
       "      <td>7-6</td>\n",
       "      <td>+21</td>\n",
       "      <td>Evil Geniuses</td>\n",
       "      <td>2-3</td>\n",
       "      <td>5-8</td>\n",
       "      <td>-28</td>\n",
       "    </tr>\n",
       "    <tr>\n",
       "      <th>5</th>\n",
       "      <td>5º</td>\n",
       "      <td>NRG</td>\n",
       "      <td>3-3</td>\n",
       "      <td>7-6</td>\n",
       "      <td>+8</td>\n",
       "      <td>FURIA</td>\n",
       "      <td>0-5</td>\n",
       "      <td>2-10</td>\n",
       "      <td>-62</td>\n",
       "    </tr>\n",
       "    <tr>\n",
       "      <th>6</th>\n",
       "      <td>6º</td>\n",
       "      <td>NaN</td>\n",
       "      <td>NaN</td>\n",
       "      <td>NaN</td>\n",
       "      <td>NaN</td>\n",
       "      <td>MIBR</td>\n",
       "      <td>0-5</td>\n",
       "      <td>0-10</td>\n",
       "      <td>-62</td>\n",
       "    </tr>\n",
       "  </tbody>\n",
       "</table>\n",
       "</div>"
      ],
      "text/plain": [
       "    0           1             2            3                4              5  \\\n",
       "0   #  Grupo Alfa  Séries (V-D)  Mapas (V-D)  Saldo de rounds    Grupo Ômega   \n",
       "1  1º         KRÜ           5-1         11-4              +43       Leviatán   \n",
       "2  2º      Cloud9           5-1         10-6              +20    100 Thieves   \n",
       "3  3º          G2           3-3          7-6              +23           LOUD   \n",
       "4  4º   Sentinels           3-3          7-6              +21  Evil Geniuses   \n",
       "5  5º         NRG           3-3          7-6               +8          FURIA   \n",
       "6  6º         NaN           NaN          NaN              NaN           MIBR   \n",
       "\n",
       "              6            7                8  \n",
       "0  Séries (V-D)  Mapas (V-D)  Saldo de rounds  \n",
       "1           4-1          9-4              +36  \n",
       "2           3-2          7-4              +14  \n",
       "3           2-3          5-6              -13  \n",
       "4           2-3          5-8              -28  \n",
       "5           0-5         2-10              -62  \n",
       "6           0-5         0-10              -62  "
      ]
     },
     "execution_count": 34,
     "metadata": {},
     "output_type": "execute_result"
    }
   ],
   "source": [
    "df = tabela_vctamericas[0]\n",
    "df.head(20)"
   ]
  },
  {
   "cell_type": "markdown",
   "metadata": {},
   "source": [
    "### 1.7 Mostrar o Resultado da Raspagem"
   ]
  },
  {
   "cell_type": "code",
   "execution_count": 36,
   "metadata": {},
   "outputs": [
    {
     "data": {
      "text/plain": [
       "[    0           1             2            3                4              5  \\\n",
       " 0   #  Grupo Alfa  Séries (V-D)  Mapas (V-D)  Saldo de rounds    Grupo Ômega   \n",
       " 1  1º         KRÜ           5-1         11-4              +43       Leviatán   \n",
       " 2  2º      Cloud9           5-1         10-6              +20    100 Thieves   \n",
       " 3  3º          G2           3-3          7-6              +23           LOUD   \n",
       " 4  4º   Sentinels           3-3          7-6              +21  Evil Geniuses   \n",
       " 5  5º         NRG           3-3          7-6               +8          FURIA   \n",
       " 6  6º         NaN           NaN          NaN              NaN           MIBR   \n",
       " \n",
       "               6            7                8  \n",
       " 0  Séries (V-D)  Mapas (V-D)  Saldo de rounds  \n",
       " 1           4-1          9-4              +36  \n",
       " 2           3-2          7-4              +14  \n",
       " 3           2-3          5-6              -13  \n",
       " 4           2-3          5-8              -28  \n",
       " 5           0-5         2-10              -62  \n",
       " 6           0-5         0-10              -62  ]"
      ]
     },
     "execution_count": 36,
     "metadata": {},
     "output_type": "execute_result"
    }
   ],
   "source": [
    "tabela_vctamericas"
   ]
  },
  {
   "cell_type": "code",
   "execution_count": 37,
   "metadata": {},
   "outputs": [
    {
     "data": {
      "text/plain": [
       "[    Times  Times.1                 Times.2  Times.3   P   J   V  E   D  GP  \\\n",
       " 0       1      NaN             Botafogo >>   Subiu1  43  21  13  4   4  35   \n",
       " 1       2      NaN             Flamengo >>  Desceu1  40  20  12  4   4  34   \n",
       " 2       3      NaN            Fortaleza >>   Subiu1  39  20  11  6   3  26   \n",
       " 3       4      NaN            Palmeiras >>  Desceu1  37  21  11  4   6  28   \n",
       " 4       5      NaN             Cruzeiro >>      NaN  35  20  11  2   7  29   \n",
       " 5       6      NaN            São Paulo >>      NaN  35  21  10  5   6  29   \n",
       " 6       7      NaN                Bahia >>      NaN  32  21   9  5   7  29   \n",
       " 7       8      NaN         Athletico-PR >>      NaN  28  19   8  4   7  22   \n",
       " 8       9      NaN          Atlético-MG >>      NaN  28  19   7  7   5  28   \n",
       " 9      10      NaN           Bragantino >>      NaN  26  19   7  5   7  24   \n",
       " 10     11      NaN        Vasco da Gama >>      NaN  24  20   7  3  10  22   \n",
       " 11     12      NaN             Criciúma >>      NaN  24  19   6  6   7  28   \n",
       " 12     13      NaN            Juventude >>      NaN  22  19   5  7   7  21   \n",
       " 13     14      NaN               Grêmio >>   Subiu2  21  19   6  3  10  17   \n",
       " 14     15      NaN              Vitória >>   Subiu2  21  21   6  3  12  23   \n",
       " 15     16      NaN        Internacional >>  Desceu2  21  16   5  6   5  14   \n",
       " 16     17      NaN           Fluminense >>   Subiu2  20  20   5  5  10  16   \n",
       " 17     18      NaN          Corinthians >>  Desceu3  20  21   4  8   9  19   \n",
       " 18     19      NaN               Cuiabá >>  Desceu1  17  19   4  5  10  19   \n",
       " 19     20      NaN  Atlético Goianiense >>      NaN  12  21   2  6  13  17   \n",
       " \n",
       "     GC  SG   %  \n",
       " 0   20  15  68  \n",
       " 1   20  14  66  \n",
       " 2   19   7  65  \n",
       " 3   17  11  58  \n",
       " 4   22   7  58  \n",
       " 5   21   8  55  \n",
       " 6   25   4  50  \n",
       " 7   20   2  49  \n",
       " 8   28   0  49  \n",
       " 9   23   1  45  \n",
       " 10  31  -9  40  \n",
       " 11  29  -1  42  \n",
       " 12  25  -4  38  \n",
       " 13  22  -5  36  \n",
       " 14  32  -9  33  \n",
       " 15  14   0  43  \n",
       " 16  24  -8  33  \n",
       " 17  28  -9  31  \n",
       " 18  25  -6  29  \n",
       " 19  35 -18  19  ]"
      ]
     },
     "execution_count": 37,
     "metadata": {},
     "output_type": "execute_result"
    }
   ],
   "source": [
    "tabela_brasileirao"
   ]
  },
  {
   "cell_type": "markdown",
   "metadata": {},
   "source": [
    "### 1.8 Mostrar os 5 primeiros"
   ]
  },
  {
   "cell_type": "code",
   "execution_count": 38,
   "metadata": {},
   "outputs": [
    {
     "data": {
      "text/html": [
       "<div>\n",
       "<style scoped>\n",
       "    .dataframe tbody tr th:only-of-type {\n",
       "        vertical-align: middle;\n",
       "    }\n",
       "\n",
       "    .dataframe tbody tr th {\n",
       "        vertical-align: top;\n",
       "    }\n",
       "\n",
       "    .dataframe thead th {\n",
       "        text-align: right;\n",
       "    }\n",
       "</style>\n",
       "<table border=\"1\" class=\"dataframe\">\n",
       "  <thead>\n",
       "    <tr style=\"text-align: right;\">\n",
       "      <th></th>\n",
       "      <th>0</th>\n",
       "      <th>1</th>\n",
       "      <th>2</th>\n",
       "      <th>3</th>\n",
       "      <th>4</th>\n",
       "      <th>5</th>\n",
       "      <th>6</th>\n",
       "      <th>7</th>\n",
       "      <th>8</th>\n",
       "    </tr>\n",
       "  </thead>\n",
       "  <tbody>\n",
       "    <tr>\n",
       "      <th>0</th>\n",
       "      <td>#</td>\n",
       "      <td>Grupo Alfa</td>\n",
       "      <td>Séries (V-D)</td>\n",
       "      <td>Mapas (V-D)</td>\n",
       "      <td>Saldo de rounds</td>\n",
       "      <td>Grupo Ômega</td>\n",
       "      <td>Séries (V-D)</td>\n",
       "      <td>Mapas (V-D)</td>\n",
       "      <td>Saldo de rounds</td>\n",
       "    </tr>\n",
       "    <tr>\n",
       "      <th>1</th>\n",
       "      <td>1º</td>\n",
       "      <td>KRÜ</td>\n",
       "      <td>5-1</td>\n",
       "      <td>11-4</td>\n",
       "      <td>+43</td>\n",
       "      <td>Leviatán</td>\n",
       "      <td>4-1</td>\n",
       "      <td>9-4</td>\n",
       "      <td>+36</td>\n",
       "    </tr>\n",
       "    <tr>\n",
       "      <th>2</th>\n",
       "      <td>2º</td>\n",
       "      <td>Cloud9</td>\n",
       "      <td>5-1</td>\n",
       "      <td>10-6</td>\n",
       "      <td>+20</td>\n",
       "      <td>100 Thieves</td>\n",
       "      <td>3-2</td>\n",
       "      <td>7-4</td>\n",
       "      <td>+14</td>\n",
       "    </tr>\n",
       "    <tr>\n",
       "      <th>3</th>\n",
       "      <td>3º</td>\n",
       "      <td>G2</td>\n",
       "      <td>3-3</td>\n",
       "      <td>7-6</td>\n",
       "      <td>+23</td>\n",
       "      <td>LOUD</td>\n",
       "      <td>2-3</td>\n",
       "      <td>5-6</td>\n",
       "      <td>-13</td>\n",
       "    </tr>\n",
       "    <tr>\n",
       "      <th>4</th>\n",
       "      <td>4º</td>\n",
       "      <td>Sentinels</td>\n",
       "      <td>3-3</td>\n",
       "      <td>7-6</td>\n",
       "      <td>+21</td>\n",
       "      <td>Evil Geniuses</td>\n",
       "      <td>2-3</td>\n",
       "      <td>5-8</td>\n",
       "      <td>-28</td>\n",
       "    </tr>\n",
       "  </tbody>\n",
       "</table>\n",
       "</div>"
      ],
      "text/plain": [
       "    0           1             2            3                4              5  \\\n",
       "0   #  Grupo Alfa  Séries (V-D)  Mapas (V-D)  Saldo de rounds    Grupo Ômega   \n",
       "1  1º         KRÜ           5-1         11-4              +43       Leviatán   \n",
       "2  2º      Cloud9           5-1         10-6              +20    100 Thieves   \n",
       "3  3º          G2           3-3          7-6              +23           LOUD   \n",
       "4  4º   Sentinels           3-3          7-6              +21  Evil Geniuses   \n",
       "\n",
       "              6            7                8  \n",
       "0  Séries (V-D)  Mapas (V-D)  Saldo de rounds  \n",
       "1           4-1          9-4              +36  \n",
       "2           3-2          7-4              +14  \n",
       "3           2-3          5-6              -13  \n",
       "4           2-3          5-8              -28  "
      ]
     },
     "execution_count": 38,
     "metadata": {},
     "output_type": "execute_result"
    }
   ],
   "source": [
    "df.head(5)"
   ]
  },
  {
   "cell_type": "markdown",
   "metadata": {},
   "source": [
    "### 1.9 Mostrar os 5 ultimos "
   ]
  },
  {
   "cell_type": "code",
   "execution_count": 39,
   "metadata": {},
   "outputs": [
    {
     "data": {
      "text/html": [
       "<div>\n",
       "<style scoped>\n",
       "    .dataframe tbody tr th:only-of-type {\n",
       "        vertical-align: middle;\n",
       "    }\n",
       "\n",
       "    .dataframe tbody tr th {\n",
       "        vertical-align: top;\n",
       "    }\n",
       "\n",
       "    .dataframe thead th {\n",
       "        text-align: right;\n",
       "    }\n",
       "</style>\n",
       "<table border=\"1\" class=\"dataframe\">\n",
       "  <thead>\n",
       "    <tr style=\"text-align: right;\">\n",
       "      <th></th>\n",
       "      <th>0</th>\n",
       "      <th>1</th>\n",
       "      <th>2</th>\n",
       "      <th>3</th>\n",
       "      <th>4</th>\n",
       "      <th>5</th>\n",
       "      <th>6</th>\n",
       "      <th>7</th>\n",
       "      <th>8</th>\n",
       "    </tr>\n",
       "  </thead>\n",
       "  <tbody>\n",
       "    <tr>\n",
       "      <th>2</th>\n",
       "      <td>2º</td>\n",
       "      <td>Cloud9</td>\n",
       "      <td>5-1</td>\n",
       "      <td>10-6</td>\n",
       "      <td>+20</td>\n",
       "      <td>100 Thieves</td>\n",
       "      <td>3-2</td>\n",
       "      <td>7-4</td>\n",
       "      <td>+14</td>\n",
       "    </tr>\n",
       "    <tr>\n",
       "      <th>3</th>\n",
       "      <td>3º</td>\n",
       "      <td>G2</td>\n",
       "      <td>3-3</td>\n",
       "      <td>7-6</td>\n",
       "      <td>+23</td>\n",
       "      <td>LOUD</td>\n",
       "      <td>2-3</td>\n",
       "      <td>5-6</td>\n",
       "      <td>-13</td>\n",
       "    </tr>\n",
       "    <tr>\n",
       "      <th>4</th>\n",
       "      <td>4º</td>\n",
       "      <td>Sentinels</td>\n",
       "      <td>3-3</td>\n",
       "      <td>7-6</td>\n",
       "      <td>+21</td>\n",
       "      <td>Evil Geniuses</td>\n",
       "      <td>2-3</td>\n",
       "      <td>5-8</td>\n",
       "      <td>-28</td>\n",
       "    </tr>\n",
       "    <tr>\n",
       "      <th>5</th>\n",
       "      <td>5º</td>\n",
       "      <td>NRG</td>\n",
       "      <td>3-3</td>\n",
       "      <td>7-6</td>\n",
       "      <td>+8</td>\n",
       "      <td>FURIA</td>\n",
       "      <td>0-5</td>\n",
       "      <td>2-10</td>\n",
       "      <td>-62</td>\n",
       "    </tr>\n",
       "    <tr>\n",
       "      <th>6</th>\n",
       "      <td>6º</td>\n",
       "      <td>NaN</td>\n",
       "      <td>NaN</td>\n",
       "      <td>NaN</td>\n",
       "      <td>NaN</td>\n",
       "      <td>MIBR</td>\n",
       "      <td>0-5</td>\n",
       "      <td>0-10</td>\n",
       "      <td>-62</td>\n",
       "    </tr>\n",
       "  </tbody>\n",
       "</table>\n",
       "</div>"
      ],
      "text/plain": [
       "    0          1    2     3    4              5    6     7    8\n",
       "2  2º     Cloud9  5-1  10-6  +20    100 Thieves  3-2   7-4  +14\n",
       "3  3º         G2  3-3   7-6  +23           LOUD  2-3   5-6  -13\n",
       "4  4º  Sentinels  3-3   7-6  +21  Evil Geniuses  2-3   5-8  -28\n",
       "5  5º        NRG  3-3   7-6   +8          FURIA  0-5  2-10  -62\n",
       "6  6º        NaN  NaN   NaN  NaN           MIBR  0-5  0-10  -62"
      ]
     },
     "execution_count": 39,
     "metadata": {},
     "output_type": "execute_result"
    }
   ],
   "source": [
    "df.tail(5)"
   ]
  },
  {
   "cell_type": "markdown",
   "metadata": {},
   "source": [
    "### 1.10 Mostrar varias colunas"
   ]
  },
  {
   "cell_type": "code",
   "execution_count": 45,
   "metadata": {},
   "outputs": [
    {
     "data": {
      "text/html": [
       "<div>\n",
       "<style scoped>\n",
       "    .dataframe tbody tr th:only-of-type {\n",
       "        vertical-align: middle;\n",
       "    }\n",
       "\n",
       "    .dataframe tbody tr th {\n",
       "        vertical-align: top;\n",
       "    }\n",
       "\n",
       "    .dataframe thead th {\n",
       "        text-align: right;\n",
       "    }\n",
       "</style>\n",
       "<table border=\"1\" class=\"dataframe\">\n",
       "  <thead>\n",
       "    <tr style=\"text-align: right;\">\n",
       "      <th></th>\n",
       "      <th>1</th>\n",
       "      <th>2</th>\n",
       "    </tr>\n",
       "  </thead>\n",
       "  <tbody>\n",
       "    <tr>\n",
       "      <th>0</th>\n",
       "      <td>Grupo Alfa</td>\n",
       "      <td>Séries (V-D)</td>\n",
       "    </tr>\n",
       "    <tr>\n",
       "      <th>1</th>\n",
       "      <td>KRÜ</td>\n",
       "      <td>5-1</td>\n",
       "    </tr>\n",
       "    <tr>\n",
       "      <th>2</th>\n",
       "      <td>Cloud9</td>\n",
       "      <td>5-1</td>\n",
       "    </tr>\n",
       "    <tr>\n",
       "      <th>3</th>\n",
       "      <td>G2</td>\n",
       "      <td>3-3</td>\n",
       "    </tr>\n",
       "    <tr>\n",
       "      <th>4</th>\n",
       "      <td>Sentinels</td>\n",
       "      <td>3-3</td>\n",
       "    </tr>\n",
       "    <tr>\n",
       "      <th>5</th>\n",
       "      <td>NRG</td>\n",
       "      <td>3-3</td>\n",
       "    </tr>\n",
       "    <tr>\n",
       "      <th>6</th>\n",
       "      <td>NaN</td>\n",
       "      <td>NaN</td>\n",
       "    </tr>\n",
       "  </tbody>\n",
       "</table>\n",
       "</div>"
      ],
      "text/plain": [
       "            1             2\n",
       "0  Grupo Alfa  Séries (V-D)\n",
       "1         KRÜ           5-1\n",
       "2      Cloud9           5-1\n",
       "3          G2           3-3\n",
       "4   Sentinels           3-3\n",
       "5         NRG           3-3\n",
       "6         NaN           NaN"
      ]
     },
     "execution_count": 45,
     "metadata": {},
     "output_type": "execute_result"
    }
   ],
   "source": [
    "df[[1,2]]"
   ]
  },
  {
   "cell_type": "markdown",
   "metadata": {},
   "source": [
    "### 1.11 Mostrar informações estruturais do DataFrame"
   ]
  },
  {
   "cell_type": "code",
   "execution_count": 47,
   "metadata": {},
   "outputs": [
    {
     "name": "stdout",
     "output_type": "stream",
     "text": [
      "<class 'pandas.core.frame.DataFrame'>\n",
      "RangeIndex: 7 entries, 0 to 6\n",
      "Data columns (total 9 columns):\n",
      " #   Column  Non-Null Count  Dtype \n",
      "---  ------  --------------  ----- \n",
      " 0   0       7 non-null      object\n",
      " 1   1       6 non-null      object\n",
      " 2   2       6 non-null      object\n",
      " 3   3       6 non-null      object\n",
      " 4   4       6 non-null      object\n",
      " 5   5       7 non-null      object\n",
      " 6   6       7 non-null      object\n",
      " 7   7       7 non-null      object\n",
      " 8   8       7 non-null      object\n",
      "dtypes: object(9)\n",
      "memory usage: 636.0+ bytes\n"
     ]
    }
   ],
   "source": [
    "df.info()"
   ]
  },
  {
   "cell_type": "markdown",
   "metadata": {},
   "source": [
    "### 1.12 Mostrar informaçoes de estatistica descritiva do DataFrame"
   ]
  },
  {
   "cell_type": "code",
   "execution_count": 48,
   "metadata": {},
   "outputs": [
    {
     "data": {
      "text/html": [
       "<div>\n",
       "<style scoped>\n",
       "    .dataframe tbody tr th:only-of-type {\n",
       "        vertical-align: middle;\n",
       "    }\n",
       "\n",
       "    .dataframe tbody tr th {\n",
       "        vertical-align: top;\n",
       "    }\n",
       "\n",
       "    .dataframe thead th {\n",
       "        text-align: right;\n",
       "    }\n",
       "</style>\n",
       "<table border=\"1\" class=\"dataframe\">\n",
       "  <thead>\n",
       "    <tr style=\"text-align: right;\">\n",
       "      <th></th>\n",
       "      <th>0</th>\n",
       "      <th>1</th>\n",
       "      <th>2</th>\n",
       "      <th>3</th>\n",
       "      <th>4</th>\n",
       "      <th>5</th>\n",
       "      <th>6</th>\n",
       "      <th>7</th>\n",
       "      <th>8</th>\n",
       "    </tr>\n",
       "  </thead>\n",
       "  <tbody>\n",
       "    <tr>\n",
       "      <th>count</th>\n",
       "      <td>7</td>\n",
       "      <td>6</td>\n",
       "      <td>6</td>\n",
       "      <td>6</td>\n",
       "      <td>6</td>\n",
       "      <td>7</td>\n",
       "      <td>7</td>\n",
       "      <td>7</td>\n",
       "      <td>7</td>\n",
       "    </tr>\n",
       "    <tr>\n",
       "      <th>unique</th>\n",
       "      <td>7</td>\n",
       "      <td>6</td>\n",
       "      <td>3</td>\n",
       "      <td>4</td>\n",
       "      <td>6</td>\n",
       "      <td>7</td>\n",
       "      <td>5</td>\n",
       "      <td>7</td>\n",
       "      <td>6</td>\n",
       "    </tr>\n",
       "    <tr>\n",
       "      <th>top</th>\n",
       "      <td>#</td>\n",
       "      <td>Grupo Alfa</td>\n",
       "      <td>3-3</td>\n",
       "      <td>7-6</td>\n",
       "      <td>Saldo de rounds</td>\n",
       "      <td>Grupo Ômega</td>\n",
       "      <td>0-5</td>\n",
       "      <td>Mapas (V-D)</td>\n",
       "      <td>-62</td>\n",
       "    </tr>\n",
       "    <tr>\n",
       "      <th>freq</th>\n",
       "      <td>1</td>\n",
       "      <td>1</td>\n",
       "      <td>3</td>\n",
       "      <td>3</td>\n",
       "      <td>1</td>\n",
       "      <td>1</td>\n",
       "      <td>2</td>\n",
       "      <td>1</td>\n",
       "      <td>2</td>\n",
       "    </tr>\n",
       "  </tbody>\n",
       "</table>\n",
       "</div>"
      ],
      "text/plain": [
       "        0           1    2    3                4            5    6  \\\n",
       "count   7           6    6    6                6            7    7   \n",
       "unique  7           6    3    4                6            7    5   \n",
       "top     #  Grupo Alfa  3-3  7-6  Saldo de rounds  Grupo Ômega  0-5   \n",
       "freq    1           1    3    3                1            1    2   \n",
       "\n",
       "                  7    8  \n",
       "count             7    7  \n",
       "unique            7    6  \n",
       "top     Mapas (V-D)  -62  \n",
       "freq              1    2  "
      ]
     },
     "execution_count": 48,
     "metadata": {},
     "output_type": "execute_result"
    }
   ],
   "source": [
    "df.describe()"
   ]
  },
  {
   "cell_type": "markdown",
   "metadata": {},
   "source": [
    "1.13 Mostrar informações da coluna 1 e 0"
   ]
  },
  {
   "cell_type": "code",
   "execution_count": 50,
   "metadata": {},
   "outputs": [
    {
     "data": {
      "text/html": [
       "<div>\n",
       "<style scoped>\n",
       "    .dataframe tbody tr th:only-of-type {\n",
       "        vertical-align: middle;\n",
       "    }\n",
       "\n",
       "    .dataframe tbody tr th {\n",
       "        vertical-align: top;\n",
       "    }\n",
       "\n",
       "    .dataframe thead th {\n",
       "        text-align: right;\n",
       "    }\n",
       "</style>\n",
       "<table border=\"1\" class=\"dataframe\">\n",
       "  <thead>\n",
       "    <tr style=\"text-align: right;\">\n",
       "      <th></th>\n",
       "      <th>0</th>\n",
       "      <th>1</th>\n",
       "    </tr>\n",
       "  </thead>\n",
       "  <tbody>\n",
       "    <tr>\n",
       "      <th>0</th>\n",
       "      <td>#</td>\n",
       "      <td>Grupo Alfa</td>\n",
       "    </tr>\n",
       "    <tr>\n",
       "      <th>1</th>\n",
       "      <td>1º</td>\n",
       "      <td>KRÜ</td>\n",
       "    </tr>\n",
       "    <tr>\n",
       "      <th>2</th>\n",
       "      <td>2º</td>\n",
       "      <td>Cloud9</td>\n",
       "    </tr>\n",
       "    <tr>\n",
       "      <th>3</th>\n",
       "      <td>3º</td>\n",
       "      <td>G2</td>\n",
       "    </tr>\n",
       "    <tr>\n",
       "      <th>4</th>\n",
       "      <td>4º</td>\n",
       "      <td>Sentinels</td>\n",
       "    </tr>\n",
       "    <tr>\n",
       "      <th>5</th>\n",
       "      <td>5º</td>\n",
       "      <td>NRG</td>\n",
       "    </tr>\n",
       "    <tr>\n",
       "      <th>6</th>\n",
       "      <td>6º</td>\n",
       "      <td>NaN</td>\n",
       "    </tr>\n",
       "  </tbody>\n",
       "</table>\n",
       "</div>"
      ],
      "text/plain": [
       "    0           1\n",
       "0   #  Grupo Alfa\n",
       "1  1º         KRÜ\n",
       "2  2º      Cloud9\n",
       "3  3º          G2\n",
       "4  4º   Sentinels\n",
       "5  5º         NRG\n",
       "6  6º         NaN"
      ]
     },
     "execution_count": 50,
     "metadata": {},
     "output_type": "execute_result"
    }
   ],
   "source": [
    "df[[0,1]]"
   ]
  },
  {
   "cell_type": "markdown",
   "metadata": {},
   "source": [
    "### 1.14 Renomeando a coluna"
   ]
  },
  {
   "cell_type": "code",
   "execution_count": 59,
   "metadata": {},
   "outputs": [],
   "source": [
    "df.rename(columns={0:'Colocação'},inplace=True)"
   ]
  },
  {
   "cell_type": "code",
   "execution_count": 60,
   "metadata": {},
   "outputs": [],
   "source": [
    "df.rename(columns={1:'Grupo Alfa'},inplace=True)"
   ]
  },
  {
   "cell_type": "code",
   "execution_count": 62,
   "metadata": {},
   "outputs": [
    {
     "data": {
      "text/html": [
       "<div>\n",
       "<style scoped>\n",
       "    .dataframe tbody tr th:only-of-type {\n",
       "        vertical-align: middle;\n",
       "    }\n",
       "\n",
       "    .dataframe tbody tr th {\n",
       "        vertical-align: top;\n",
       "    }\n",
       "\n",
       "    .dataframe thead th {\n",
       "        text-align: right;\n",
       "    }\n",
       "</style>\n",
       "<table border=\"1\" class=\"dataframe\">\n",
       "  <thead>\n",
       "    <tr style=\"text-align: right;\">\n",
       "      <th></th>\n",
       "      <th>Colocação</th>\n",
       "      <th>Grupo Alfa</th>\n",
       "    </tr>\n",
       "  </thead>\n",
       "  <tbody>\n",
       "    <tr>\n",
       "      <th>0</th>\n",
       "      <td>#</td>\n",
       "      <td>Grupo Alfa</td>\n",
       "    </tr>\n",
       "    <tr>\n",
       "      <th>1</th>\n",
       "      <td>1º</td>\n",
       "      <td>KRÜ</td>\n",
       "    </tr>\n",
       "    <tr>\n",
       "      <th>2</th>\n",
       "      <td>2º</td>\n",
       "      <td>Cloud9</td>\n",
       "    </tr>\n",
       "    <tr>\n",
       "      <th>3</th>\n",
       "      <td>3º</td>\n",
       "      <td>G2</td>\n",
       "    </tr>\n",
       "    <tr>\n",
       "      <th>4</th>\n",
       "      <td>4º</td>\n",
       "      <td>Sentinels</td>\n",
       "    </tr>\n",
       "    <tr>\n",
       "      <th>5</th>\n",
       "      <td>5º</td>\n",
       "      <td>NRG</td>\n",
       "    </tr>\n",
       "    <tr>\n",
       "      <th>6</th>\n",
       "      <td>6º</td>\n",
       "      <td>NaN</td>\n",
       "    </tr>\n",
       "  </tbody>\n",
       "</table>\n",
       "</div>"
      ],
      "text/plain": [
       "  Colocação  Grupo Alfa\n",
       "0         #  Grupo Alfa\n",
       "1        1º         KRÜ\n",
       "2        2º      Cloud9\n",
       "3        3º          G2\n",
       "4        4º   Sentinels\n",
       "5        5º         NRG\n",
       "6        6º         NaN"
      ]
     },
     "execution_count": 62,
     "metadata": {},
     "output_type": "execute_result"
    }
   ],
   "source": [
    "df[[\"Colocação\",\"Grupo Alfa\"]]"
   ]
  },
  {
   "cell_type": "markdown",
   "metadata": {},
   "source": [
    "# seu lixo como que pode isso, tu n fez nada monkey"
   ]
  },
  {
   "cell_type": "markdown",
   "metadata": {},
   "source": [
    "w"
   ]
  }
 ],
 "metadata": {
  "kernelspec": {
   "display_name": ".venv",
   "language": "python",
   "name": "python3"
  },
  "language_info": {
   "codemirror_mode": {
    "name": "ipython",
    "version": 3
   },
   "file_extension": ".py",
   "mimetype": "text/x-python",
   "name": "python",
   "nbconvert_exporter": "python",
   "pygments_lexer": "ipython3",
   "version": "3.12.5"
  }
 },
 "nbformat": 4,
 "nbformat_minor": 2
}
